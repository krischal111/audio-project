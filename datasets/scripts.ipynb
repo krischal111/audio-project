{
 "cells": [
  {
   "cell_type": "code",
   "execution_count": 22,
   "metadata": {},
   "outputs": [],
   "source": [
    "from importlib import reload\n",
    "import utils\n",
    "from os import makedirs\n",
    "from pathlib import Path"
   ]
  },
  {
   "cell_type": "code",
   "execution_count": 23,
   "metadata": {},
   "outputs": [
    {
     "data": {
      "text/plain": [
       "(53654, 536, 2682)"
      ]
     },
     "execution_count": 23,
     "metadata": {},
     "output_type": "execute_result"
    }
   ],
   "source": [
    "files = utils.get_all_files_from('clips')\n",
    "train_folder = \"clips-train\"\n",
    "test_folder = \"clips-test\"\n",
    "validation_folder = \"clips-validation\"\n",
    "\n",
    "files = list(set(files))\n",
    "n = len(files)\n",
    "n_test = int(0.01 * n)\n",
    "n_validation = int(0.05 *n)\n",
    "\n",
    "validation_files = files[:n_validation]\n",
    "test_files = files[-n_test:]\n",
    "train_files = files[n_validation:-n_test]\n",
    "\n",
    "(n, n_test, n_validation)\n",
    "# list(map(len, (validation_files, test_files, train_files)))\n"
   ]
  },
  {
   "cell_type": "code",
   "execution_count": 24,
   "metadata": {},
   "outputs": [],
   "source": [
    "def move_file_to_folder(file, dest_dir):\n",
    "    Path(file).rename(Path(dest_dir) / Path(file).stem)\n"
   ]
  },
  {
   "cell_type": "code",
   "execution_count": 25,
   "metadata": {},
   "outputs": [],
   "source": [
    "makedirs(Path(train_folder), exist_ok=True)\n",
    "makedirs(Path(test_folder, exist_ok=True))\n",
    "makedirs(Path(validation_folder, exist_ok=True))\n",
    "\n",
    "for file in train_files:\n",
    "    move_file_to_folder(file, train_folder)\n",
    "for file in test_files:\n",
    "    move_file_to_folder(file, test_folder)\n",
    "for file in validation_files:\n",
    "    move_file_to_folder(file, validation_folder)"
   ]
  },
  {
   "cell_type": "code",
   "execution_count": null,
   "metadata": {},
   "outputs": [],
   "source": []
  }
 ],
 "metadata": {
  "kernelspec": {
   "display_name": "Python 3",
   "language": "python",
   "name": "python3"
  },
  "language_info": {
   "codemirror_mode": {
    "name": "ipython",
    "version": 3
   },
   "file_extension": ".py",
   "mimetype": "text/x-python",
   "name": "python",
   "nbconvert_exporter": "python",
   "pygments_lexer": "ipython3",
   "version": "3.11.6"
  }
 },
 "nbformat": 4,
 "nbformat_minor": 2
}
